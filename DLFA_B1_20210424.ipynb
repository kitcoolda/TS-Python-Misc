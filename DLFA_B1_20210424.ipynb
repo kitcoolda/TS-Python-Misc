{
  "nbformat": 4,
  "nbformat_minor": 0,
  "metadata": {
    "colab": {
      "name": "DLFA-B1-20210424.ipynb",
      "private_outputs": true,
      "provenance": [],
      "include_colab_link": true
    },
    "kernelspec": {
      "name": "python3",
      "display_name": "Python 3"
    },
    "language_info": {
      "name": "python"
    }
  },
  "cells": [
    {
      "cell_type": "markdown",
      "metadata": {
        "id": "view-in-github",
        "colab_type": "text"
      },
      "source": [
        "<a href=\"https://colab.research.google.com/github/kitcoolda/TS-Python-Misc/blob/main/DLFA_B1_20210424.ipynb\" target=\"_parent\"><img src=\"https://colab.research.google.com/assets/colab-badge.svg\" alt=\"Open In Colab\"/></a>"
      ]
    },
    {
      "cell_type": "code",
      "metadata": {
        "id": "IBlXqshmKDPX"
      },
      "source": [
        "f = [0, 1, 1, 2, 3, 5, 8, 13, 21, 34, 55, 89]"
      ],
      "execution_count": null,
      "outputs": []
    },
    {
      "cell_type": "code",
      "metadata": {
        "id": "GnRtJV-kKoqk"
      },
      "source": [
        "p = [2, 3, 5, 7, 11, 13, 17, 19, 23, 29]"
      ],
      "execution_count": null,
      "outputs": []
    },
    {
      "cell_type": "code",
      "metadata": {
        "id": "aDJzsm0_K9Xc"
      },
      "source": [
        "len(f)"
      ],
      "execution_count": null,
      "outputs": []
    },
    {
      "cell_type": "code",
      "metadata": {
        "id": "PAj1gH0UK_Uq"
      },
      "source": [
        "len(p)"
      ],
      "execution_count": null,
      "outputs": []
    },
    {
      "cell_type": "code",
      "metadata": {
        "id": "pd3bCusYLAlQ"
      },
      "source": [
        "f[0]"
      ],
      "execution_count": null,
      "outputs": []
    },
    {
      "cell_type": "code",
      "metadata": {
        "id": "Y32-MIlZLE-N"
      },
      "source": [
        "f[5]"
      ],
      "execution_count": null,
      "outputs": []
    },
    {
      "cell_type": "code",
      "metadata": {
        "id": "rTfapw1_LGFT"
      },
      "source": [
        "p[2]"
      ],
      "execution_count": null,
      "outputs": []
    },
    {
      "cell_type": "code",
      "metadata": {
        "id": "n9ZMm-UJLHZJ"
      },
      "source": [
        "p[-1]"
      ],
      "execution_count": null,
      "outputs": []
    },
    {
      "cell_type": "code",
      "metadata": {
        "id": "mB6bx2WILJn6"
      },
      "source": [
        "p[-2]"
      ],
      "execution_count": null,
      "outputs": []
    },
    {
      "cell_type": "code",
      "metadata": {
        "id": "KTiZXEnDLK3E"
      },
      "source": [
        "p.append(31)"
      ],
      "execution_count": null,
      "outputs": []
    },
    {
      "cell_type": "code",
      "metadata": {
        "id": "dE-G5Q_CLZWm"
      },
      "source": [
        "p"
      ],
      "execution_count": null,
      "outputs": []
    },
    {
      "cell_type": "code",
      "metadata": {
        "id": "OyEp42NiLZ7b"
      },
      "source": [
        "len(p)"
      ],
      "execution_count": null,
      "outputs": []
    },
    {
      "cell_type": "code",
      "metadata": {
        "id": "RubaANavLbnR"
      },
      "source": [
        "p.insert(2, -4)"
      ],
      "execution_count": null,
      "outputs": []
    },
    {
      "cell_type": "code",
      "metadata": {
        "id": "13RWUw_MLqf-"
      },
      "source": [
        "p"
      ],
      "execution_count": null,
      "outputs": []
    },
    {
      "cell_type": "code",
      "metadata": {
        "id": "I0GMOF8XLrEZ"
      },
      "source": [
        "p.sort()"
      ],
      "execution_count": null,
      "outputs": []
    },
    {
      "cell_type": "code",
      "metadata": {
        "id": "Tfk5RUtULy_i"
      },
      "source": [
        "p"
      ],
      "execution_count": null,
      "outputs": []
    },
    {
      "cell_type": "code",
      "metadata": {
        "id": "6eX8QNFBLzmt"
      },
      "source": [
        "p.sort(reverse=True)"
      ],
      "execution_count": null,
      "outputs": []
    },
    {
      "cell_type": "code",
      "metadata": {
        "id": "_U2uACVbL56U"
      },
      "source": [
        "p"
      ],
      "execution_count": null,
      "outputs": []
    },
    {
      "cell_type": "code",
      "metadata": {
        "id": "ZI4U_LuzL6sq"
      },
      "source": [
        "p = p.sort()"
      ],
      "execution_count": null,
      "outputs": []
    },
    {
      "cell_type": "code",
      "metadata": {
        "id": "TPFcnITRMARr"
      },
      "source": [
        "p"
      ],
      "execution_count": null,
      "outputs": []
    },
    {
      "cell_type": "code",
      "metadata": {
        "id": "fLwdHHNiMBVY"
      },
      "source": [
        "p = [2, 3, 5, 7, 11, 13, 17, 19, 23, 29, 31]"
      ],
      "execution_count": null,
      "outputs": []
    },
    {
      "cell_type": "code",
      "metadata": {
        "id": "m8RKbVInMMzW"
      },
      "source": [
        "p.sort?"
      ],
      "execution_count": null,
      "outputs": []
    },
    {
      "cell_type": "code",
      "metadata": {
        "id": "zIwv7GUuMOSQ"
      },
      "source": [
        "sorted?"
      ],
      "execution_count": null,
      "outputs": []
    },
    {
      "cell_type": "code",
      "metadata": {
        "id": "yKRDUn-XMWGJ"
      },
      "source": [
        "names = [\"Alpha\", \"Beta\", \"Theta\", \"Gamma\", \"Delta\"]"
      ],
      "execution_count": null,
      "outputs": []
    },
    {
      "cell_type": "code",
      "metadata": {
        "id": "GMQKh6GfNf74"
      },
      "source": [
        "sorted(names)"
      ],
      "execution_count": null,
      "outputs": []
    },
    {
      "cell_type": "code",
      "metadata": {
        "id": "tDrPopuHNhHI"
      },
      "source": [
        "sorted(names, key=len)"
      ],
      "execution_count": null,
      "outputs": []
    },
    {
      "cell_type": "code",
      "metadata": {
        "id": "3Ypw3AQNNkpk"
      },
      "source": [
        "names2 = [\"alpha\", \"Beta\", \"gamma\", \"Delta\", \"mu\" ] "
      ],
      "execution_count": null,
      "outputs": []
    },
    {
      "cell_type": "code",
      "metadata": {
        "id": "96wpJFOJPS68"
      },
      "source": [
        "sorted(names2)"
      ],
      "execution_count": null,
      "outputs": []
    },
    {
      "cell_type": "code",
      "metadata": {
        "id": "fXM2Mv5tPasb"
      },
      "source": [
        "def tolower(s):\n",
        "    return s.lower()"
      ],
      "execution_count": null,
      "outputs": []
    },
    {
      "cell_type": "code",
      "metadata": {
        "id": "D8I7XT1WPUA1"
      },
      "source": [
        "sorted(names2, key=tolower)"
      ],
      "execution_count": null,
      "outputs": []
    },
    {
      "cell_type": "code",
      "metadata": {
        "id": "_TLwZtO7PYCD"
      },
      "source": [
        "names2"
      ],
      "execution_count": null,
      "outputs": []
    },
    {
      "cell_type": "code",
      "metadata": {
        "id": "U-tq1LctPpkV"
      },
      "source": [
        "f"
      ],
      "execution_count": null,
      "outputs": []
    },
    {
      "cell_type": "code",
      "metadata": {
        "id": "vUE-50u6QFB6"
      },
      "source": [
        "f[1:5]"
      ],
      "execution_count": null,
      "outputs": []
    },
    {
      "cell_type": "code",
      "metadata": {
        "id": "eBGmxis_QGy1"
      },
      "source": [
        "f[:4]"
      ],
      "execution_count": null,
      "outputs": []
    },
    {
      "cell_type": "code",
      "metadata": {
        "id": "7OEDjDpWQJBw"
      },
      "source": [
        "f[6:]"
      ],
      "execution_count": null,
      "outputs": []
    },
    {
      "cell_type": "code",
      "metadata": {
        "id": "yHohJNPWQLDD"
      },
      "source": [
        "f[:]"
      ],
      "execution_count": null,
      "outputs": []
    },
    {
      "cell_type": "code",
      "metadata": {
        "id": "hEBbxx9xRGzz"
      },
      "source": [
        "f[1:5] = [100, 101, 102, 103]"
      ],
      "execution_count": null,
      "outputs": []
    },
    {
      "cell_type": "code",
      "metadata": {
        "id": "UVIGJeM2RW_d"
      },
      "source": [
        "f"
      ],
      "execution_count": null,
      "outputs": []
    },
    {
      "cell_type": "code",
      "metadata": {
        "id": "6sdrVH98RuAC"
      },
      "source": [
        "f = [0, 1, 1, 2, 3, 5, 8, 13, 21, 34, 55, 89]"
      ],
      "execution_count": null,
      "outputs": []
    },
    {
      "cell_type": "code",
      "metadata": {
        "id": "S_vn7sKdSp6x"
      },
      "source": [
        "f[7:3:-1]"
      ],
      "execution_count": null,
      "outputs": []
    },
    {
      "cell_type": "code",
      "metadata": {
        "id": "UDlbEnLTStRm"
      },
      "source": [
        "f[2:9:2]"
      ],
      "execution_count": null,
      "outputs": []
    },
    {
      "cell_type": "code",
      "metadata": {
        "id": "Ejv2A6bPSwU2"
      },
      "source": [
        "f[::-1]"
      ],
      "execution_count": null,
      "outputs": []
    },
    {
      "cell_type": "code",
      "metadata": {
        "id": "K_bibjkyTC9o"
      },
      "source": [
        "f[-2::-2]"
      ],
      "execution_count": null,
      "outputs": []
    },
    {
      "cell_type": "code",
      "metadata": {
        "id": "g1z9qz24TO_R"
      },
      "source": [
        "f[-1::-2]"
      ],
      "execution_count": null,
      "outputs": []
    },
    {
      "cell_type": "code",
      "metadata": {
        "id": "bT-UKHUfTRFo"
      },
      "source": [
        "f"
      ],
      "execution_count": null,
      "outputs": []
    },
    {
      "cell_type": "code",
      "metadata": {
        "id": "WQBMCpVPT_Bc"
      },
      "source": [
        "f[-5:]"
      ],
      "execution_count": null,
      "outputs": []
    },
    {
      "cell_type": "code",
      "metadata": {
        "id": "nurvnn57UJOT"
      },
      "source": [
        "f[-5:2]"
      ],
      "execution_count": null,
      "outputs": []
    },
    {
      "cell_type": "code",
      "metadata": {
        "id": "oup7axZ6UOj7"
      },
      "source": [
        "f[-5:2:-1]"
      ],
      "execution_count": null,
      "outputs": []
    },
    {
      "cell_type": "code",
      "metadata": {
        "id": "U8DS9ZuUUSgg"
      },
      "source": [
        "f"
      ],
      "execution_count": null,
      "outputs": []
    },
    {
      "cell_type": "code",
      "metadata": {
        "id": "Zf50NaehUsii"
      },
      "source": [
        "len(f)"
      ],
      "execution_count": null,
      "outputs": []
    },
    {
      "cell_type": "code",
      "metadata": {
        "id": "_TVEs9r8UuAk"
      },
      "source": [
        "len(p)"
      ],
      "execution_count": null,
      "outputs": []
    },
    {
      "cell_type": "code",
      "metadata": {
        "id": "HSox67SuUvDa"
      },
      "source": [
        "p.append(37)"
      ],
      "execution_count": null,
      "outputs": []
    },
    {
      "cell_type": "code",
      "metadata": {
        "id": "WBjXXq8zUw4b"
      },
      "source": [
        "f, p"
      ],
      "execution_count": null,
      "outputs": []
    },
    {
      "cell_type": "markdown",
      "metadata": {
        "id": "UamYXRYgUzEe"
      },
      "source": [
        "# map\n",
        "## map(f, a) -> [f(a[0]), f(a[1]), ... f(a[-1])]"
      ]
    },
    {
      "cell_type": "code",
      "metadata": {
        "id": "pNUtK3rgU97L"
      },
      "source": [
        "def square(x: int) -> int:\n",
        "    return x * x"
      ],
      "execution_count": null,
      "outputs": []
    },
    {
      "cell_type": "code",
      "metadata": {
        "id": "IzlE7nsYVDvi"
      },
      "source": [
        "list(map(square, f))"
      ],
      "execution_count": null,
      "outputs": []
    },
    {
      "cell_type": "code",
      "metadata": {
        "id": "vqcqyuNgVF6k"
      },
      "source": [
        "map?"
      ],
      "execution_count": null,
      "outputs": []
    },
    {
      "cell_type": "code",
      "metadata": {
        "id": "fmT5qmODWAur"
      },
      "source": [
        "def just(a, b):\n",
        "    return a * b + 1"
      ],
      "execution_count": null,
      "outputs": []
    },
    {
      "cell_type": "code",
      "metadata": {
        "id": "z3Xjaq1hWNj5"
      },
      "source": [
        "list(map(just, f, p))"
      ],
      "execution_count": null,
      "outputs": []
    },
    {
      "cell_type": "code",
      "metadata": {
        "id": "kA0mZRB0WTK2"
      },
      "source": [
        "f"
      ],
      "execution_count": null,
      "outputs": []
    },
    {
      "cell_type": "code",
      "metadata": {
        "id": "-sbM9qIYWVXj"
      },
      "source": [
        "p"
      ],
      "execution_count": null,
      "outputs": []
    },
    {
      "cell_type": "markdown",
      "metadata": {
        "id": "arOy11exWVzR"
      },
      "source": [
        "# filter\n",
        "## filter(f, C) -> those elements of C for which f(C[i]) is True"
      ]
    },
    {
      "cell_type": "code",
      "metadata": {
        "id": "K1wmruPAWuCy"
      },
      "source": [
        "def even(n: int) -> bool:\n",
        "    return n % 2 == 0"
      ],
      "execution_count": null,
      "outputs": []
    },
    {
      "cell_type": "code",
      "metadata": {
        "id": "AI7xNgivWzhx"
      },
      "source": [
        "list(filter(even, f))"
      ],
      "execution_count": null,
      "outputs": []
    },
    {
      "cell_type": "code",
      "metadata": {
        "id": "ecZxRzaHW2DZ"
      },
      "source": [
        "f"
      ],
      "execution_count": null,
      "outputs": []
    },
    {
      "cell_type": "code",
      "metadata": {
        "id": "HtU57G34XCzS"
      },
      "source": [
        "bool(7)"
      ],
      "execution_count": null,
      "outputs": []
    },
    {
      "cell_type": "code",
      "metadata": {
        "id": "lMUGbQIWXeFH"
      },
      "source": [
        "bool(0)"
      ],
      "execution_count": null,
      "outputs": []
    },
    {
      "cell_type": "markdown",
      "metadata": {
        "id": "cvdNBC8_XjMF"
      },
      "source": [
        "# comprehensions\n",
        "## map + filter ... of sorts"
      ]
    },
    {
      "cell_type": "code",
      "metadata": {
        "id": "eIYeSeUVYaG3"
      },
      "source": [
        "f"
      ],
      "execution_count": null,
      "outputs": []
    },
    {
      "cell_type": "code",
      "metadata": {
        "id": "kdSWz-McYJi7"
      },
      "source": [
        "[square(α) for α in f if even(α)]"
      ],
      "execution_count": null,
      "outputs": []
    },
    {
      "cell_type": "code",
      "metadata": {
        "id": "3tnHiwchYWT3"
      },
      "source": [
        "[square(α) for α in f]"
      ],
      "execution_count": null,
      "outputs": []
    },
    {
      "cell_type": "code",
      "metadata": {
        "id": "01UnuO6kYfah"
      },
      "source": [
        "[α for α in f if even(α)]"
      ],
      "execution_count": null,
      "outputs": []
    },
    {
      "cell_type": "markdown",
      "metadata": {
        "id": "e_UwuSNjYiWD"
      },
      "source": [
        "$T = \\{\\theta(x) | x \\in S, \\pi(x)\\}$"
      ]
    },
    {
      "cell_type": "code",
      "metadata": {
        "id": "GarYtyE3ZRHN"
      },
      "source": [
        "T = [theta(x) for x in S if pi(x)]"
      ],
      "execution_count": null,
      "outputs": []
    },
    {
      "cell_type": "code",
      "metadata": {
        "id": "UDjU3ukkavsv"
      },
      "source": [
        "{square(x) for x in f if even(x)}"
      ],
      "execution_count": null,
      "outputs": []
    },
    {
      "cell_type": "code",
      "metadata": {
        "id": "fuTgqQCSbd_0"
      },
      "source": [
        "sum((square(α) for α in f))"
      ],
      "execution_count": null,
      "outputs": []
    },
    {
      "cell_type": "code",
      "metadata": {
        "id": "DBkfOcnebi7t"
      },
      "source": [
        "a = (square(α) for α in f if even(α))"
      ],
      "execution_count": null,
      "outputs": []
    },
    {
      "cell_type": "code",
      "metadata": {
        "id": "kZoqLyW1jqVG"
      },
      "source": [
        "for x in a:\n",
        "    print(x)"
      ],
      "execution_count": null,
      "outputs": []
    },
    {
      "cell_type": "code",
      "metadata": {
        "id": "yiehtesbjs8K"
      },
      "source": [
        "for x in a:\n",
        "    print(a)"
      ],
      "execution_count": null,
      "outputs": []
    },
    {
      "cell_type": "markdown",
      "metadata": {
        "id": "QgXrSkzOjuk9"
      },
      "source": [
        "Moral: generator can be used only once"
      ]
    },
    {
      "cell_type": "code",
      "metadata": {
        "id": "XhyopwaLkJF2"
      },
      "source": [
        "a"
      ],
      "execution_count": null,
      "outputs": []
    },
    {
      "cell_type": "markdown",
      "metadata": {
        "id": "qNMjOWy4kgQg"
      },
      "source": [
        "A palindromic number reads the same both ways. The largest palindrome made from the product of two 2-digit numbers is 9009 = 91 × 99. Find the largest palindrome made from the product of two 3-digit numbers. "
      ]
    },
    {
      "cell_type": "code",
      "metadata": {
        "id": "NJLcYiI8lFMj"
      },
      "source": [
        "def is_palindrome(n: int) -> bool:\n",
        "    return n == reverse(n)"
      ],
      "execution_count": null,
      "outputs": []
    },
    {
      "cell_type": "code",
      "metadata": {
        "id": "I8ZYvf18lOqH"
      },
      "source": [
        "def reverse(n: int) -> int:\n",
        "    rev = 0\n",
        "    while n > 0:\n",
        "        rev = rev * 10 + n % 10\n",
        "        n //= 10\n",
        "    return rev"
      ],
      "execution_count": null,
      "outputs": []
    },
    {
      "cell_type": "code",
      "metadata": {
        "id": "Xpbx11Qmla3T"
      },
      "source": [
        "def problem5():\n",
        "    START, LIMIT = 100, 1000\n",
        "    palindromes = []\n",
        "    for a in range(START, LIMIT):\n",
        "        for b in range(a, LIMIT):\n",
        "            n = a * b\n",
        "            if is_palindrome(n):\n",
        "                palindromes.append(n)\n",
        "    return palindromes"
      ],
      "execution_count": null,
      "outputs": []
    },
    {
      "cell_type": "code",
      "metadata": {
        "id": "j4DPDu8SmQxl"
      },
      "source": [
        "max(problem5())"
      ],
      "execution_count": null,
      "outputs": []
    },
    {
      "cell_type": "code",
      "metadata": {
        "id": "vlsBP3-SmXYr"
      },
      "source": [
        "def s_is_palindrome(n: int) -> bool:\n",
        "    s = str(n)\n",
        "    return s == s[::-1]"
      ],
      "execution_count": null,
      "outputs": []
    },
    {
      "cell_type": "code",
      "metadata": {
        "id": "6zZFQz9Qp7Zx"
      },
      "source": [
        "def s_reverse(n: int) -> int:\n",
        "    return int(str(n)[::-1])\n"
      ],
      "execution_count": null,
      "outputs": []
    },
    {
      "cell_type": "markdown",
      "metadata": {
        "id": "QKEV8Gthrqlt"
      },
      "source": [
        "Problem Statement 5\n",
        "\n",
        "Each new term in the Fibonacci sequence is generated by adding the previous two terms. By starting with 1 and 2, the first 10 terms will be: 1, 2, 3, 5, 8, 13, 21, 34, 55, 89, ... By considering the terms in the Fibonacci sequence whose values do not exceed four million, find the sum of the even-valued terms. \n",
        "\n"
      ]
    },
    {
      "cell_type": "code",
      "metadata": {
        "id": "YjCkVIq8sZbw"
      },
      "source": [
        "LIMIT = 4000000\n",
        "def euler5(n: int)-> int:\n",
        "    answer = 0\n",
        "    a, b = 0, 1\n",
        "    while b < n:\n",
        "        if even(b):\n",
        "            answer += b\n",
        "        a, b = b, a + b\n",
        "    return answer\n",
        "print(euler5(LIMIT))"
      ],
      "execution_count": null,
      "outputs": []
    },
    {
      "cell_type": "code",
      "metadata": {
        "id": "mIoogPPss3Pt"
      },
      "source": [
        "def fibsupto(n: int) -> [int]:\n",
        "    answer = []\n",
        "    a, b = 0, 1\n",
        "    while b < n:\n",
        "        answer.append(b)\n",
        "        a, b = b, a + b\n",
        "    return answer"
      ],
      "execution_count": null,
      "outputs": []
    },
    {
      "cell_type": "code",
      "metadata": {
        "id": "tVcVuTOit9Wr"
      },
      "source": [
        "sum(filter(even, fibsupto(LIMIT)))"
      ],
      "execution_count": null,
      "outputs": []
    },
    {
      "cell_type": "code",
      "metadata": {
        "id": "dvJjjvtjt_oH"
      },
      "source": [
        "def fibsUpto(n: int):\n",
        "    a, b = 0, 1\n",
        "    while a < n:\n",
        "        yield a\n",
        "        a, b = b, a + b"
      ],
      "execution_count": null,
      "outputs": []
    },
    {
      "cell_type": "code",
      "metadata": {
        "id": "HQwOf7upuqEU"
      },
      "source": [
        "sum(filter(even, fibsUpto(LIMIT)))"
      ],
      "execution_count": null,
      "outputs": []
    },
    {
      "cell_type": "code",
      "metadata": {
        "id": "RKqjhh2ButVH"
      },
      "source": [
        "type(fibsUpto)"
      ],
      "execution_count": null,
      "outputs": []
    },
    {
      "cell_type": "code",
      "metadata": {
        "id": "PomgxZCIwFy5"
      },
      "source": [
        "a = fibsUpto(1000)"
      ],
      "execution_count": null,
      "outputs": []
    },
    {
      "cell_type": "code",
      "metadata": {
        "id": "ptTuvX7WwPBJ"
      },
      "source": [
        "b = fibsUpto(80000)"
      ],
      "execution_count": null,
      "outputs": []
    },
    {
      "cell_type": "code",
      "metadata": {
        "id": "sdcic76KwRKL"
      },
      "source": [
        "filter?"
      ],
      "execution_count": null,
      "outputs": []
    },
    {
      "cell_type": "code",
      "metadata": {
        "id": "HejlweSLxEOB"
      },
      "source": [
        "aa = fibsUpto(50000000)"
      ],
      "execution_count": null,
      "outputs": []
    },
    {
      "cell_type": "code",
      "metadata": {
        "id": "qXxuXZv0xRls"
      },
      "source": [
        "for i in aa:\n",
        "    if i > 100000:\n",
        "        break"
      ],
      "execution_count": null,
      "outputs": []
    },
    {
      "cell_type": "code",
      "metadata": {
        "id": "FNxpina6xV8s"
      },
      "source": [
        "for j in aa:\n",
        "    print(j)"
      ],
      "execution_count": null,
      "outputs": []
    },
    {
      "cell_type": "code",
      "metadata": {
        "id": "Fql9tH6SxY4Y"
      },
      "source": [
        "type(b)"
      ],
      "execution_count": null,
      "outputs": []
    },
    {
      "cell_type": "code",
      "metadata": {
        "id": "xQsaF9n7yMrz"
      },
      "source": [
        "def squaresUpTo(n: int):\n",
        "    r = 0\n",
        "    while r * r < n:\n",
        "        yield r * r\n",
        "        r += 1"
      ],
      "execution_count": null,
      "outputs": []
    },
    {
      "cell_type": "code",
      "metadata": {
        "id": "HBJfq4htzG79"
      },
      "source": [
        "def isCube(n: int) -> bool:\n",
        "    p = 0\n",
        "    while p * p * p < n:\n",
        "        p += 1\n",
        "    return p * p * p == n"
      ],
      "execution_count": null,
      "outputs": []
    },
    {
      "cell_type": "code",
      "metadata": {
        "id": "TlmKtU9uzZeZ"
      },
      "source": [
        "list(filter(isCube, squaresUpTo(100)))"
      ],
      "execution_count": null,
      "outputs": []
    },
    {
      "cell_type": "markdown",
      "metadata": {
        "id": "OeyMmp4DzlrJ"
      },
      "source": [
        "7457\n",
        "\n",
        "7754 - 4577\n",
        "\n",
        "3177\n",
        "\n",
        "7731 - 1377\n",
        "\n",
        "6354\n",
        "\n",
        "6543 - 3456\n",
        "\n",
        "3087\n",
        "\n",
        "8730 - 0378\n",
        "\n",
        "8352\n",
        "\n",
        "8532 - 2358\n",
        "\n",
        "6174\n",
        "\n",
        "7641 - 1467\n",
        "\n",
        "6174\n"
      ]
    },
    {
      "cell_type": "code",
      "metadata": {
        "id": "ltskzZO11Mra"
      },
      "source": [
        "def digit2Num()"
      ],
      "execution_count": null,
      "outputs": []
    }
  ]
}